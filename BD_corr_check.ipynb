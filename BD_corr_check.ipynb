{
  "nbformat": 4,
  "nbformat_minor": 0,
  "metadata": {
    "colab": {
      "name": "BD_corr_check.ipynb",
      "provenance": [],
      "collapsed_sections": [],
      "authorship_tag": "ABX9TyMTUYtFAbTKrZqoIzdsTnQp",
      "include_colab_link": true
    },
    "kernelspec": {
      "name": "python3",
      "display_name": "Python 3"
    },
    "language_info": {
      "name": "python"
    }
  },
  "cells": [
    {
      "cell_type": "markdown",
      "metadata": {
        "id": "view-in-github",
        "colab_type": "text"
      },
      "source": [
        "<a href=\"https://colab.research.google.com/github/rohangrge/Machine-Learning-with-Spark-Streaming/blob/branch1/BD_corr_check.ipynb\" target=\"_parent\"><img src=\"https://colab.research.google.com/assets/colab-badge.svg\" alt=\"Open In Colab\"/></a>"
      ]
    },
    {
      "cell_type": "code",
      "metadata": {
        "colab": {
          "base_uri": "https://localhost:8080/"
        },
        "id": "nDCh_jW_WJ-s",
        "outputId": "e44b830f-2cac-42f7-dfdb-882ef63dfcee"
      },
      "source": [
        "import pandas as pd\n",
        "from scipy.stats import chisquare\n",
        "import nltk\n",
        "nltk.download('stopwords')\n",
        "from nltk.tokenize import sent_tokenize, word_tokenize \n",
        "from nltk.corpus import stopwords\n",
        "nltk.download('punkt')\n",
        "from sklearn.feature_extraction.text import TfidfVectorizer\n",
        "v = TfidfVectorizer(lowercase=False)\n",
        "stop_words =set(stopwords.words(\"english\"))"
      ],
      "execution_count": 1,
      "outputs": [
        {
          "output_type": "stream",
          "name": "stdout",
          "text": [
            "[nltk_data] Downloading package stopwords to /root/nltk_data...\n",
            "[nltk_data]   Package stopwords is already up-to-date!\n",
            "[nltk_data] Downloading package punkt to /root/nltk_data...\n",
            "[nltk_data]   Package punkt is already up-to-date!\n"
          ]
        }
      ]
    },
    {
      "cell_type": "code",
      "metadata": {
        "id": "xJd18Na6ZAiu"
      },
      "source": [
        "df = pd.read_csv(\"train.csv\")"
      ],
      "execution_count": 2,
      "outputs": []
    },
    {
      "cell_type": "code",
      "metadata": {
        "colab": {
          "base_uri": "https://localhost:8080/"
        },
        "id": "kOD8FgcJZEP-",
        "outputId": "ccfa7cc1-3457-4f2d-9b84-bd5b11fafcb9"
      },
      "source": [
        "df.head"
      ],
      "execution_count": 3,
      "outputs": [
        {
          "output_type": "execute_result",
          "data": {
            "text/plain": [
              "<bound method NDFrame.head of                                                Subject  ... Spam/Ham\n",
              "0                                   transfers from ees  ...     spam\n",
              "1                            fw : re ivanhoe e . s . d  ...     spam\n",
              "2                re : enerfin meter 980439 for 10 / 00  ...      ham\n",
              "3                                    meoh plant status  ...      ham\n",
              "4                                      re : tenaska iv  ...     spam\n",
              "...                                                ...  ...      ...\n",
              "30339                        fw : re ivanhoe e . s . d  ...     spam\n",
              "30340                                        wellheads  ...      ham\n",
              "30341                                    re : releases  ...     spam\n",
              "30342  start date : 2 / 6 / 02 ; hourahead hour : 24 ;  ...     spam\n",
              "30343                                    re : releases  ...     spam\n",
              "\n",
              "[30344 rows x 3 columns]>"
            ]
          },
          "metadata": {},
          "execution_count": 3
        }
      ]
    },
    {
      "cell_type": "code",
      "metadata": {
        "colab": {
          "base_uri": "https://localhost:8080/"
        },
        "id": "ymnessUMZzbX",
        "outputId": "b4237665-2250-4740-b057-f4f4fa694a11"
      },
      "source": [
        "df.columns"
      ],
      "execution_count": 4,
      "outputs": [
        {
          "output_type": "execute_result",
          "data": {
            "text/plain": [
              "Index(['Subject', 'Message', 'Spam/Ham'], dtype='object')"
            ]
          },
          "metadata": {},
          "execution_count": 4
        }
      ]
    },
    {
      "cell_type": "code",
      "metadata": {
        "id": "kvqenH7EoDk3"
      },
      "source": [
        "spec_chars = [\"!\",'\"',\"#\",\"%\",\"&\",\"'\",\"(\",\")\",\n",
        "              \"*\",\"+\",\",\",\"-\",\".\",\"/\",\":\",\";\",\"<\",\n",
        "              \"=\",\">\",\"?\",\"@\",\"[\",\"\\\\\",\"]\",\"^\",\"_\",\n",
        "              \"`\",\"{\",\"|\",\"}\",\"~\",\"–\"]\n",
        "for char in spec_chars:\n",
        "    df['Message'] = df['Message'].str.replace(char, ' ')\n",
        "    df['Subject'] = df['Subject'].str.replace(char, ' ')\n",
        "df['Message'] = df['Message'].str.split().str.join(\" \")\n",
        "df['Subject'] = df['Subject'].str.split().str.join(\" \")"
      ],
      "execution_count": 5,
      "outputs": []
    },
    {
      "cell_type": "code",
      "metadata": {
        "id": "SdOL-oeanWJg"
      },
      "source": [
        "df['Subject_tokenized'] = df['Subject'].apply(word_tokenize)\n",
        "df['Message_tokenized'] = df['Message'].apply(lambda sentence: nltk.word_tokenize(str(sentence)))"
      ],
      "execution_count": 6,
      "outputs": []
    },
    {
      "cell_type": "code",
      "metadata": {
        "colab": {
          "base_uri": "https://localhost:8080/",
          "height": 293
        },
        "id": "_rrIKgGxp9PB",
        "outputId": "3d22b670-4d62-4658-847a-6c58c4ffd5ce"
      },
      "source": [
        "df.head()"
      ],
      "execution_count": 7,
      "outputs": [
        {
          "output_type": "execute_result",
          "data": {
            "text/html": [
              "<div>\n",
              "<style scoped>\n",
              "    .dataframe tbody tr th:only-of-type {\n",
              "        vertical-align: middle;\n",
              "    }\n",
              "\n",
              "    .dataframe tbody tr th {\n",
              "        vertical-align: top;\n",
              "    }\n",
              "\n",
              "    .dataframe thead th {\n",
              "        text-align: right;\n",
              "    }\n",
              "</style>\n",
              "<table border=\"1\" class=\"dataframe\">\n",
              "  <thead>\n",
              "    <tr style=\"text-align: right;\">\n",
              "      <th></th>\n",
              "      <th>Subject</th>\n",
              "      <th>Message</th>\n",
              "      <th>Spam/Ham</th>\n",
              "      <th>Subject_tokenized</th>\n",
              "      <th>Message_tokenized</th>\n",
              "    </tr>\n",
              "  </thead>\n",
              "  <tbody>\n",
              "    <tr>\n",
              "      <th>0</th>\n",
              "      <td>transfers from ees</td>\n",
              "      <td>attached is the latest version of the cost cen...</td>\n",
              "      <td>spam</td>\n",
              "      <td>[transfers, from, ees]</td>\n",
              "      <td>[attached, is, the, latest, version, of, the, ...</td>\n",
              "    </tr>\n",
              "    <tr>\n",
              "      <th>1</th>\n",
              "      <td>fw re ivanhoe e s d</td>\n",
              "      <td>fyi kim original message from frazier perry se...</td>\n",
              "      <td>spam</td>\n",
              "      <td>[fw, re, ivanhoe, e, s, d]</td>\n",
              "      <td>[fyi, kim, original, message, from, frazier, p...</td>\n",
              "    </tr>\n",
              "    <tr>\n",
              "      <th>2</th>\n",
              "      <td>re enerfin meter 980439 for 10 00</td>\n",
              "      <td>it did but tetco prorated the flow between the...</td>\n",
              "      <td>ham</td>\n",
              "      <td>[re, enerfin, meter, 980439, for, 10, 00]</td>\n",
              "      <td>[it, did, but, tetco, prorated, the, flow, bet...</td>\n",
              "    </tr>\n",
              "    <tr>\n",
              "      <th>3</th>\n",
              "      <td>meoh plant status</td>\n",
              "      <td>the methanol plant has determined extensive re...</td>\n",
              "      <td>ham</td>\n",
              "      <td>[meoh, plant, status]</td>\n",
              "      <td>[the, methanol, plant, has, determined, extens...</td>\n",
              "    </tr>\n",
              "    <tr>\n",
              "      <th>4</th>\n",
              "      <td>re tenaska iv</td>\n",
              "      <td>i tried calling you this am but your phone rol...</td>\n",
              "      <td>spam</td>\n",
              "      <td>[re, tenaska, iv]</td>\n",
              "      <td>[i, tried, calling, you, this, am, but, your, ...</td>\n",
              "    </tr>\n",
              "  </tbody>\n",
              "</table>\n",
              "</div>"
            ],
            "text/plain": [
              "                             Subject  ...                                  Message_tokenized\n",
              "0                 transfers from ees  ...  [attached, is, the, latest, version, of, the, ...\n",
              "1                fw re ivanhoe e s d  ...  [fyi, kim, original, message, from, frazier, p...\n",
              "2  re enerfin meter 980439 for 10 00  ...  [it, did, but, tetco, prorated, the, flow, bet...\n",
              "3                  meoh plant status  ...  [the, methanol, plant, has, determined, extens...\n",
              "4                      re tenaska iv  ...  [i, tried, calling, you, this, am, but, your, ...\n",
              "\n",
              "[5 rows x 5 columns]"
            ]
          },
          "metadata": {},
          "execution_count": 7
        }
      ]
    },
    {
      "cell_type": "code",
      "metadata": {
        "id": "RHjKheCzRcA_"
      },
      "source": [
        "df[\"Subject_tfidf\"] = v.fit_transform(df['Subject_tokenized'].astype('U').values)\n",
        "df[\"Message_tfidf\"] = v.fit_transform(df['Message_tokenized'].astype('U').values)"
      ],
      "execution_count": 8,
      "outputs": []
    },
    {
      "cell_type": "code",
      "metadata": {
        "colab": {
          "base_uri": "https://localhost:8080/",
          "height": 625
        },
        "id": "9IG5vVZ2W7Uj",
        "outputId": "7a1f3911-49d7-46d2-be65-4ce2a36dcef0"
      },
      "source": [
        "df.head()"
      ],
      "execution_count": 9,
      "outputs": [
        {
          "output_type": "execute_result",
          "data": {
            "text/html": [
              "<div>\n",
              "<style scoped>\n",
              "    .dataframe tbody tr th:only-of-type {\n",
              "        vertical-align: middle;\n",
              "    }\n",
              "\n",
              "    .dataframe tbody tr th {\n",
              "        vertical-align: top;\n",
              "    }\n",
              "\n",
              "    .dataframe thead th {\n",
              "        text-align: right;\n",
              "    }\n",
              "</style>\n",
              "<table border=\"1\" class=\"dataframe\">\n",
              "  <thead>\n",
              "    <tr style=\"text-align: right;\">\n",
              "      <th></th>\n",
              "      <th>Subject</th>\n",
              "      <th>Message</th>\n",
              "      <th>Spam/Ham</th>\n",
              "      <th>Subject_tokenized</th>\n",
              "      <th>Message_tokenized</th>\n",
              "      <th>Subject_tfidf</th>\n",
              "      <th>Message_tfidf</th>\n",
              "    </tr>\n",
              "  </thead>\n",
              "  <tbody>\n",
              "    <tr>\n",
              "      <th>0</th>\n",
              "      <td>transfers from ees</td>\n",
              "      <td>attached is the latest version of the cost cen...</td>\n",
              "      <td>spam</td>\n",
              "      <td>[transfers, from, ees]</td>\n",
              "      <td>[attached, is, the, latest, version, of, the, ...</td>\n",
              "      <td>(0, 2337)\\t0.5799269978885242\\n  (0, 2855)\\t...</td>\n",
              "      <td>(0, 55967)\\t0.08907587912053541\\n  (0, 52674...</td>\n",
              "    </tr>\n",
              "    <tr>\n",
              "      <th>1</th>\n",
              "      <td>fw re ivanhoe e s d</td>\n",
              "      <td>fyi kim original message from frazier perry se...</td>\n",
              "      <td>spam</td>\n",
              "      <td>[fw, re, ivanhoe, e, s, d]</td>\n",
              "      <td>[fyi, kim, original, message, from, frazier, p...</td>\n",
              "      <td>(0, 2337)\\t0.5799269978885242\\n  (0, 2855)\\t...</td>\n",
              "      <td>(0, 55967)\\t0.08907587912053541\\n  (0, 52674...</td>\n",
              "    </tr>\n",
              "    <tr>\n",
              "      <th>2</th>\n",
              "      <td>re enerfin meter 980439 for 10 00</td>\n",
              "      <td>it did but tetco prorated the flow between the...</td>\n",
              "      <td>ham</td>\n",
              "      <td>[re, enerfin, meter, 980439, for, 10, 00]</td>\n",
              "      <td>[it, did, but, tetco, prorated, the, flow, bet...</td>\n",
              "      <td>(0, 2337)\\t0.5799269978885242\\n  (0, 2855)\\t...</td>\n",
              "      <td>(0, 55967)\\t0.08907587912053541\\n  (0, 52674...</td>\n",
              "    </tr>\n",
              "    <tr>\n",
              "      <th>3</th>\n",
              "      <td>meoh plant status</td>\n",
              "      <td>the methanol plant has determined extensive re...</td>\n",
              "      <td>ham</td>\n",
              "      <td>[meoh, plant, status]</td>\n",
              "      <td>[the, methanol, plant, has, determined, extens...</td>\n",
              "      <td>(0, 2337)\\t0.5799269978885242\\n  (0, 2855)\\t...</td>\n",
              "      <td>(0, 55967)\\t0.08907587912053541\\n  (0, 52674...</td>\n",
              "    </tr>\n",
              "    <tr>\n",
              "      <th>4</th>\n",
              "      <td>re tenaska iv</td>\n",
              "      <td>i tried calling you this am but your phone rol...</td>\n",
              "      <td>spam</td>\n",
              "      <td>[re, tenaska, iv]</td>\n",
              "      <td>[i, tried, calling, you, this, am, but, your, ...</td>\n",
              "      <td>(0, 2337)\\t0.5799269978885242\\n  (0, 2855)\\t...</td>\n",
              "      <td>(0, 55967)\\t0.08907587912053541\\n  (0, 52674...</td>\n",
              "    </tr>\n",
              "  </tbody>\n",
              "</table>\n",
              "</div>"
            ],
            "text/plain": [
              "                             Subject  ...                                      Message_tfidf\n",
              "0                 transfers from ees  ...    (0, 55967)\\t0.08907587912053541\\n  (0, 52674...\n",
              "1                fw re ivanhoe e s d  ...    (0, 55967)\\t0.08907587912053541\\n  (0, 52674...\n",
              "2  re enerfin meter 980439 for 10 00  ...    (0, 55967)\\t0.08907587912053541\\n  (0, 52674...\n",
              "3                  meoh plant status  ...    (0, 55967)\\t0.08907587912053541\\n  (0, 52674...\n",
              "4                      re tenaska iv  ...    (0, 55967)\\t0.08907587912053541\\n  (0, 52674...\n",
              "\n",
              "[5 rows x 7 columns]"
            ]
          },
          "metadata": {},
          "execution_count": 9
        }
      ]
    },
    {
      "cell_type": "code",
      "metadata": {
        "colab": {
          "base_uri": "https://localhost:8080/"
        },
        "id": "N0ZA42l2kWXq",
        "outputId": "5f6090ec-d5ac-44e7-dafd-c409544103fe"
      },
      "source": [
        "df.dtypes"
      ],
      "execution_count": 10,
      "outputs": [
        {
          "output_type": "execute_result",
          "data": {
            "text/plain": [
              "Subject              object\n",
              "Message              object\n",
              "Spam/Ham             object\n",
              "Subject_tokenized    object\n",
              "Message_tokenized    object\n",
              "Subject_tfidf        object\n",
              "Message_tfidf        object\n",
              "dtype: object"
            ]
          },
          "metadata": {},
          "execution_count": 10
        }
      ]
    },
    {
      "cell_type": "code",
      "metadata": {
        "id": "FOxNFtx-Rm56"
      },
      "source": [
        "#df1 = df.apply(lambda x: tuple(x) if type(x)!= str else tuple([x]))\n",
        "df[\"Subject_tokenized\"].apply(lambda x : pd.factorize(x))\n",
        "df[\"Message_tokenized\"].apply(lambda x : pd.factorize(x))\n",
        "df[\"Message_tokenized\"].corr(df[\"Subject_tokenized\"], method=\"pearson\")"
      ],
      "execution_count": null,
      "outputs": []
    },
    {
      "cell_type": "code",
      "metadata": {
        "id": "F_7GbBxGWD63"
      },
      "source": [
        "df=df.apply(lambda x : pd.factorize(x)[0])+1\n",
        "\n",
        "pd.DataFrame([chisquare(df[x].values,f_exp=df.values.T,axis=1)[0] for x in df])"
      ],
      "execution_count": null,
      "outputs": []
    }
  ]
}