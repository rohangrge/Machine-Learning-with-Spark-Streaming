{
  "nbformat": 4,
  "nbformat_minor": 0,
  "metadata": {
    "colab": {
      "name": "BD_corr_check.ipynb",
      "provenance": [],
      "authorship_tag": "ABX9TyOkB42t/h6X1mMxHChMkgG3",
      "include_colab_link": true
    },
    "kernelspec": {
      "name": "python3",
      "display_name": "Python 3"
    },
    "language_info": {
      "name": "python"
    }
  },
  "cells": [
    {
      "cell_type": "markdown",
      "metadata": {
        "id": "view-in-github",
        "colab_type": "text"
      },
      "source": [
        "<a href=\"https://colab.research.google.com/github/rohangrge/Machine-Learning-with-Spark-Streaming/blob/branch1/BD_corr_check.ipynb\" target=\"_parent\"><img src=\"https://colab.research.google.com/assets/colab-badge.svg\" alt=\"Open In Colab\"/></a>"
      ]
    },
    {
      "cell_type": "code",
      "metadata": {
        "id": "nDCh_jW_WJ-s"
      },
      "source": [
        "import pandas as pd\n",
        "from scipy.stats import chisquare"
      ],
      "execution_count": 10,
      "outputs": []
    },
    {
      "cell_type": "code",
      "metadata": {
        "id": "xJd18Na6ZAiu"
      },
      "source": [
        "df = pd.read_csv(\"train.csv\")"
      ],
      "execution_count": 2,
      "outputs": []
    },
    {
      "cell_type": "code",
      "metadata": {
        "colab": {
          "base_uri": "https://localhost:8080/"
        },
        "id": "kOD8FgcJZEP-",
        "outputId": "7a2d775f-c8ce-4819-ec15-093f0b5d9ccc"
      },
      "source": [
        "df.head"
      ],
      "execution_count": 7,
      "outputs": [
        {
          "output_type": "execute_result",
          "data": {
            "text/plain": [
              "<bound method NDFrame.head of                                                Subject  ... Spam/Ham\n",
              "0                                   transfers from ees  ...     spam\n",
              "1                            fw : re ivanhoe e . s . d  ...     spam\n",
              "2                re : enerfin meter 980439 for 10 / 00  ...      ham\n",
              "3                                    meoh plant status  ...      ham\n",
              "4                                      re : tenaska iv  ...     spam\n",
              "...                                                ...  ...      ...\n",
              "30339                        fw : re ivanhoe e . s . d  ...     spam\n",
              "30340                                        wellheads  ...      ham\n",
              "30341                                    re : releases  ...     spam\n",
              "30342  start date : 2 / 6 / 02 ; hourahead hour : 24 ;  ...     spam\n",
              "30343                                    re : releases  ...     spam\n",
              "\n",
              "[30344 rows x 3 columns]>"
            ]
          },
          "metadata": {},
          "execution_count": 7
        }
      ]
    },
    {
      "cell_type": "code",
      "metadata": {
        "colab": {
          "base_uri": "https://localhost:8080/"
        },
        "id": "ymnessUMZzbX",
        "outputId": "0a10caab-8ca8-413c-a58a-7ddcfcbfdff9"
      },
      "source": [
        "df.columns"
      ],
      "execution_count": 8,
      "outputs": [
        {
          "output_type": "execute_result",
          "data": {
            "text/plain": [
              "Index(['Subject', 'Message', 'Spam/Ham'], dtype='object')"
            ]
          },
          "metadata": {},
          "execution_count": 8
        }
      ]
    },
    {
      "cell_type": "code",
      "metadata": {
        "colab": {
          "base_uri": "https://localhost:8080/",
          "height": 233
        },
        "id": "ESy_kVJ8Z1Qz",
        "outputId": "d26dd37a-bc4c-46c7-ef7b-41d28a03dbda"
      },
      "source": [
        "df=df.apply(lambda x : pd.factorize(x)[0])+1\n",
        "\n",
        "pd.DataFrame([chisquare(df[x].values,f_exp=df.values.T,axis=1)[0] for x in df])"
      ],
      "execution_count": 11,
      "outputs": [
        {
          "output_type": "stream",
          "name": "stderr",
          "text": [
            "/usr/local/lib/python3.7/dist-packages/scipy/stats/stats.py:5745: RuntimeWarning: divide by zero encountered in true_divide\n",
            "  terms = (f_obs - f_exp)**2 / f_exp\n",
            "/usr/local/lib/python3.7/dist-packages/scipy/stats/stats.py:5745: RuntimeWarning: invalid value encountered in true_divide\n",
            "  terms = (f_obs - f_exp)**2 / f_exp\n"
          ]
        },
        {
          "output_type": "execute_result",
          "data": {
            "text/html": [
              "<div>\n",
              "<style scoped>\n",
              "    .dataframe tbody tr th:only-of-type {\n",
              "        vertical-align: middle;\n",
              "    }\n",
              "\n",
              "    .dataframe tbody tr th {\n",
              "        vertical-align: top;\n",
              "    }\n",
              "\n",
              "    .dataframe thead th {\n",
              "        text-align: right;\n",
              "    }\n",
              "</style>\n",
              "<table border=\"1\" class=\"dataframe\">\n",
              "  <thead>\n",
              "    <tr style=\"text-align: right;\">\n",
              "      <th></th>\n",
              "      <th>0</th>\n",
              "      <th>1</th>\n",
              "      <th>2</th>\n",
              "    </tr>\n",
              "  </thead>\n",
              "  <tbody>\n",
              "    <tr>\n",
              "      <th>0</th>\n",
              "      <td>0.000000e+00</td>\n",
              "      <td>inf</td>\n",
              "      <td>2.912252e+11</td>\n",
              "    </tr>\n",
              "    <tr>\n",
              "      <th>1</th>\n",
              "      <td>1.411198e+09</td>\n",
              "      <td>NaN</td>\n",
              "      <td>4.943778e+11</td>\n",
              "    </tr>\n",
              "    <tr>\n",
              "      <th>2</th>\n",
              "      <td>7.726082e+07</td>\n",
              "      <td>inf</td>\n",
              "      <td>0.000000e+00</td>\n",
              "    </tr>\n",
              "  </tbody>\n",
              "</table>\n",
              "</div>"
            ],
            "text/plain": [
              "              0    1             2\n",
              "0  0.000000e+00  inf  2.912252e+11\n",
              "1  1.411198e+09  NaN  4.943778e+11\n",
              "2  7.726082e+07  inf  0.000000e+00"
            ]
          },
          "metadata": {},
          "execution_count": 11
        }
      ]
    },
    {
      "cell_type": "code",
      "metadata": {
        "colab": {
          "base_uri": "https://localhost:8080/",
          "height": 143
        },
        "id": "WbSCj5gZeepr",
        "outputId": "1b022f34-0141-4aa4-8b2d-369f054a979a"
      },
      "source": [
        "df.apply(lambda x : pd.factorize(x)[0]).corr(method='pearson', min_periods=1)"
      ],
      "execution_count": 12,
      "outputs": [
        {
          "output_type": "execute_result",
          "data": {
            "text/html": [
              "<div>\n",
              "<style scoped>\n",
              "    .dataframe tbody tr th:only-of-type {\n",
              "        vertical-align: middle;\n",
              "    }\n",
              "\n",
              "    .dataframe tbody tr th {\n",
              "        vertical-align: top;\n",
              "    }\n",
              "\n",
              "    .dataframe thead th {\n",
              "        text-align: right;\n",
              "    }\n",
              "</style>\n",
              "<table border=\"1\" class=\"dataframe\">\n",
              "  <thead>\n",
              "    <tr style=\"text-align: right;\">\n",
              "      <th></th>\n",
              "      <th>Subject</th>\n",
              "      <th>Message</th>\n",
              "      <th>Spam/Ham</th>\n",
              "    </tr>\n",
              "  </thead>\n",
              "  <tbody>\n",
              "    <tr>\n",
              "      <th>Subject</th>\n",
              "      <td>1.000000</td>\n",
              "      <td>0.899952</td>\n",
              "      <td>0.725441</td>\n",
              "    </tr>\n",
              "    <tr>\n",
              "      <th>Message</th>\n",
              "      <td>0.899952</td>\n",
              "      <td>1.000000</td>\n",
              "      <td>0.769825</td>\n",
              "    </tr>\n",
              "    <tr>\n",
              "      <th>Spam/Ham</th>\n",
              "      <td>0.725441</td>\n",
              "      <td>0.769825</td>\n",
              "      <td>1.000000</td>\n",
              "    </tr>\n",
              "  </tbody>\n",
              "</table>\n",
              "</div>"
            ],
            "text/plain": [
              "           Subject   Message  Spam/Ham\n",
              "Subject   1.000000  0.899952  0.725441\n",
              "Message   0.899952  1.000000  0.769825\n",
              "Spam/Ham  0.725441  0.769825  1.000000"
            ]
          },
          "metadata": {},
          "execution_count": 12
        }
      ]
    }
  ]
}